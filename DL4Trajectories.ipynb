{
 "cells": [
  {
   "cell_type": "code",
   "execution_count": null,
   "id": "c6e6cb7b",
   "metadata": {
    "ExecuteTime": {
     "end_time": "2023-09-12T12:18:53.762521Z",
     "start_time": "2023-09-12T12:18:52.107544Z"
    }
   },
   "outputs": [],
   "source": [
    "import numpy as np\n",
    "import pandas as pd\n",
    "import collections\n",
    "import colorcet as cc\n",
    "\n",
    "import matplotlib.pyplot as plt\n",
    "import seaborn as sns\n",
    "\n",
    "import litstudy\n",
    "\n",
    "# Options for plots\n",
    "plt.rcParams['figure.figsize'] = (10, 6)\n",
    "sns.set('paper')\n",
    "\n",
    "pd.options.display.max_colwidth = 100"
   ]
  },
  {
   "cell_type": "markdown",
   "id": "e1379ee6",
   "metadata": {},
   "source": [
    "# load data"
   ]
  },
  {
   "cell_type": "code",
   "execution_count": null,
   "id": "906c8468",
   "metadata": {
    "ExecuteTime": {
     "end_time": "2023-09-12T12:18:53.764667Z",
     "start_time": "2023-09-12T12:18:53.764667Z"
    }
   },
   "outputs": [],
   "source": [
    "path = \"papers_sorted_VF.csv\" #\"papers.csv\"\n",
    "papers = pd.read_csv(path)"
   ]
  },
  {
   "cell_type": "code",
   "execution_count": null,
   "id": "ba596bb9",
   "metadata": {
    "ExecuteTime": {
     "end_time": "2023-09-12T12:18:53.765667Z",
     "start_time": "2023-09-12T12:18:53.765667Z"
    }
   },
   "outputs": [],
   "source": [
    "# some info abuot the dataset\n",
    "print(\"#Relevant papers={}\".format(len(papers)))\n",
    "print('paper attributes:{}'.format(list(papers.columns)))\n",
    "\n",
    "# mage sure data types are correct\n",
    "papers['title'] = pd.Series(papers['title'], dtype=\"string\")\n",
    "papers['year'] = pd.Series(papers['year'], dtype=\"int\")"
   ]
  },
  {
   "cell_type": "markdown",
   "id": "6e2583a7",
   "metadata": {
    "ExecuteTime": {
     "end_time": "2023-06-27T09:39:08.450693Z",
     "start_time": "2023-06-27T09:39:08.434731Z"
    }
   },
   "source": [
    "# Exploratory analysis\n",
    "## publication year\n",
    "\n",
    "### check & fill Nans"
   ]
  },
  {
   "cell_type": "code",
   "execution_count": null,
   "id": "7dac45b8",
   "metadata": {
    "ExecuteTime": {
     "end_time": "2023-09-12T12:18:53.767669Z",
     "start_time": "2023-09-12T12:18:53.767669Z"
    }
   },
   "outputs": [],
   "source": [
    "papers.year.value_counts().plot(kind='barh',\n",
    "                                figsize=(5,3),\n",
    "                                title=\"Number publication per year\")"
   ]
  },
  {
   "cell_type": "markdown",
   "id": "836b2004",
   "metadata": {},
   "source": [
    "## Document Type (Enty type)"
   ]
  },
  {
   "cell_type": "code",
   "execution_count": null,
   "id": "39ac1ebb",
   "metadata": {
    "ExecuteTime": {
     "end_time": "2023-09-12T12:18:54.377603Z",
     "start_time": "2023-09-12T12:18:54.347584Z"
    }
   },
   "outputs": [],
   "source": [
    "papers['pubType'] = pd.Series(papers['pubType'], dtype=\"string\")\n",
    "\n",
    "\n",
    "if papers.pubType.isnull().all():\n",
    "    print('No values to plot for Entry_type')\n",
    "else:\n",
    "    papers.pubType.fillna('NA', inplace=True)\n",
    "    papers.pubType.value_counts().plot(kind='barh',\n",
    "                                    figsize=(5,3),\n",
    "                                    title=\"pubType\")"
   ]
  },
  {
   "cell_type": "code",
   "execution_count": null,
   "id": "3e41e687",
   "metadata": {
    "ExecuteTime": {
     "end_time": "2023-09-12T12:18:54.717791Z",
     "start_time": "2023-09-12T12:18:54.688896Z"
    }
   },
   "outputs": [],
   "source": [
    "papers.pubType.value_counts()"
   ]
  },
  {
   "cell_type": "markdown",
   "id": "695f738a",
   "metadata": {},
   "source": [
    "## Authors"
   ]
  },
  {
   "cell_type": "code",
   "execution_count": null,
   "id": "99c4f52c",
   "metadata": {
    "ExecuteTime": {
     "end_time": "2023-09-06T15:31:27.133500Z",
     "start_time": "2023-09-06T15:31:22.298038Z"
    }
   },
   "outputs": [],
   "source": [
    "if papers.author.isnull().all():\n",
    "    print('No values to plot for Authors')\n",
    "else:\n",
    "    # get the first author names\n",
    "    first_authors = []\n",
    "    for author in papers['author']:\n",
    "        \n",
    "        author = str(author)\n",
    "        \n",
    "        first_authors.append(author.split('and')[0])\n",
    "    papers['first_author'] = first_authors\n",
    "    \n",
    "    papers.first_author.value_counts().plot(kind='bar',\n",
    "                                            figsize=(25,5),\n",
    "                                            title=\"First Authors\")"
   ]
  },
  {
   "cell_type": "markdown",
   "id": "90952bf5",
   "metadata": {},
   "source": [
    "## Address (country and cities)"
   ]
  },
  {
   "cell_type": "code",
   "execution_count": null,
   "id": "efb1f4cb",
   "metadata": {
    "ExecuteTime": {
     "end_time": "2023-09-06T15:31:28.248469Z",
     "start_time": "2023-09-06T15:31:27.135506Z"
    }
   },
   "outputs": [],
   "source": [
    "papers['address'] = pd.Series(papers['address'], dtype=\"string\")\n",
    "\n",
    "\n",
    "if papers.address.isnull().all():\n",
    "    print('No values to plot for Address')\n",
    "else:\n",
    "    papers.address.fillna('NA', inplace=True)\n",
    "    \n",
    "    papers.address.value_counts().plot(kind='barh',\n",
    "                                    figsize=(5,10),\n",
    "                                    title=\"Address\")"
   ]
  },
  {
   "cell_type": "markdown",
   "id": "70513416",
   "metadata": {},
   "source": [
    "## Institutions"
   ]
  },
  {
   "cell_type": "code",
   "execution_count": null,
   "id": "890257bc",
   "metadata": {
    "ExecuteTime": {
     "end_time": "2023-09-06T15:31:28.263489Z",
     "start_time": "2023-09-06T15:31:28.251467Z"
    }
   },
   "outputs": [],
   "source": [
    "papers['institution'] = pd.Series(papers['institution'], dtype=\"string\")\n",
    "\n",
    "\n",
    "if papers.institution.isnull().all():\n",
    "    print('No values to plot for Institution')\n",
    "else:\n",
    "    papers.institution.fillna('NA', inplace=True)\n",
    "    \n",
    "    papers.institution.value_counts().plot(kind='barh',\n",
    "                                           figsize=(5,3),\n",
    "                                           title=\"Institution\")"
   ]
  },
  {
   "cell_type": "markdown",
   "id": "d4068e6f",
   "metadata": {},
   "source": [
    "## Editors & Publishers"
   ]
  },
  {
   "cell_type": "code",
   "execution_count": null,
   "id": "9361719f",
   "metadata": {
    "ExecuteTime": {
     "end_time": "2023-09-06T15:31:28.649622Z",
     "start_time": "2023-09-06T15:31:28.267493Z"
    }
   },
   "outputs": [],
   "source": [
    "papers['journal'] = pd.Series(papers['journal'], dtype=\"string\")\n",
    "papers['editor'] = pd.Series(papers['editor'], dtype=\"string\")\n",
    "papers['publisher'] = pd.Series(papers['publisher'], dtype=\"string\")\n",
    "\n",
    "if papers.editor.isnull().all():\n",
    "    print('No values to plot for Editor')\n",
    "else:\n",
    "    papers.editor.fillna('NA', inplace=True)\n",
    "    papers.editor.value_counts().plot(kind='barh',\n",
    "                                    figsize=(5,3),\n",
    "                                    title=\"Editor\")"
   ]
  },
  {
   "cell_type": "code",
   "execution_count": null,
   "id": "ef87cc7c",
   "metadata": {
    "ExecuteTime": {
     "end_time": "2023-09-06T15:31:30.468301Z",
     "start_time": "2023-09-06T15:31:28.651223Z"
    }
   },
   "outputs": [],
   "source": [
    "# x top relevant publishers/journals - see why we have so many nans\n",
    "\n",
    "if papers.journal.isnull().all():\n",
    "    print('No values to plot for Journal')\n",
    "else:\n",
    "    papers.journal.fillna('NA', inplace=True)\n",
    "    papers.journal.value_counts().plot(kind='barh',\n",
    "                                    figsize=(5,15),\n",
    "                                    title=\"Journal\")"
   ]
  },
  {
   "cell_type": "code",
   "execution_count": null,
   "id": "6707b2a5",
   "metadata": {
    "ExecuteTime": {
     "end_time": "2023-09-06T15:31:31.076924Z",
     "start_time": "2023-09-06T15:31:30.473434Z"
    }
   },
   "outputs": [],
   "source": [
    "if papers.publisher.isnull().all():\n",
    "    print('No values to plot for Publisher')\n",
    "else:\n",
    "    papers.publisher.fillna('NA', inplace=True)\n",
    "    papers.publisher.value_counts().plot(kind='barh',\n",
    "                                    figsize=(5,8),\n",
    "                                    title=\"Publisher\")"
   ]
  },
  {
   "cell_type": "markdown",
   "id": "5bf20f1b",
   "metadata": {},
   "source": [
    "## Use Cases"
   ]
  },
  {
   "cell_type": "code",
   "execution_count": null,
   "id": "3906a62b",
   "metadata": {
    "ExecuteTime": {
     "end_time": "2023-09-06T15:31:31.722659Z",
     "start_time": "2023-09-06T15:31:31.079208Z"
    }
   },
   "outputs": [],
   "source": [
    "papers['use_case'] = pd.Series(papers['use_case'], dtype=\"string\")\n",
    "\n",
    "\n",
    "if papers.use_case.isnull().all():\n",
    "    print('No values to plot for Use cases')\n",
    "else:\n",
    "    papers.use_case.fillna('NA', inplace=True)\n",
    "    \n",
    "    papers.use_case.value_counts().plot(kind='barh',\n",
    "                                        figsize=(5,3),\n",
    "                                        title=\"Use cases\")"
   ]
  },
  {
   "cell_type": "markdown",
   "id": "bb2d9b61",
   "metadata": {},
   "source": [
    "## Technology"
   ]
  },
  {
   "cell_type": "code",
   "execution_count": null,
   "id": "7b157b4d",
   "metadata": {
    "ExecuteTime": {
     "end_time": "2023-09-06T15:31:34.383256Z",
     "start_time": "2023-09-06T15:31:31.725660Z"
    }
   },
   "outputs": [],
   "source": [
    "papers['technology'] = pd.Series(papers['technology'], dtype=\"string\")\n",
    "\n",
    "if papers.technology.isnull().all():\n",
    "    print('No values to plot for Technology')\n",
    "else:\n",
    "    papers.technology.fillna('NA', inplace=True)\n",
    "    \n",
    "    papers.technology.value_counts().plot(kind='barh',\n",
    "                                          figsize=(5,20),\n",
    "                                          title=\"Technology\")"
   ]
  },
  {
   "cell_type": "code",
   "execution_count": null,
   "id": "e6b36e97",
   "metadata": {
    "ExecuteTime": {
     "end_time": "2023-09-06T15:31:34.428507Z",
     "start_time": "2023-09-06T15:31:34.385688Z"
    }
   },
   "outputs": [],
   "source": [
    "# categorize the technologies in a more abstract group\n",
    "def append_technology_usecase(uc_element, tech_cat):\n",
    "    if '(Sub)trajectory Classification' in uc_element:\n",
    "        uc_element = uc_element.replace('(Sub)trajectory Classification', '(Sub)trajectory classification')\n",
    "    \n",
    "    \n",
    "    \n",
    "    if \";\" in uc_element:\n",
    "        for e in uc_element.split(\";\"):\n",
    "            if e[0] == \" \":\n",
    "                e = e[1:]\n",
    "                \n",
    "            if e[-1] == \" \":\n",
    "                e = e[:-1]\n",
    "\n",
    "            use_case.append(e)\n",
    "            techniques.append(tech_cat)\n",
    "            paper_ids.append(pid)\n",
    "            pub_years.append(year)      \n",
    "    else:\n",
    "        use_case.append(uc_element)\n",
    "        techniques.append(tech_cat)\n",
    "        paper_ids.append(pid)\n",
    "        pub_years.append(year)  \n",
    "\n",
    "techniques = []\n",
    "paper_ids = []\n",
    "pub_years = []\n",
    "use_case = []\n",
    "for pid, year, uc, technology in zip(papers['key'].values,\n",
    "                                     papers['year'].values,\n",
    "                                     papers['use_case'],\n",
    "                                     papers['technology'].values):\n",
    "    \n",
    "    technology = technology.lower()\n",
    "    is_other_dl = True\n",
    "    \n",
    "    # eitheri it is a traditional ML method or it is DL\n",
    "    # ML\n",
    "    if \"ml\" in technology:\n",
    "        continue\n",
    "        tech_category = 'Classical ML'\n",
    "        append_technology_usecase(uc, tech_category)\n",
    "        is_other_dl = False\n",
    "        \n",
    "    #RNN\n",
    "    if (((\"lstm\" in technology) or (\"rnn\" in technology) or (\"gru\" in technology)\n",
    "        or (\"recurrent\" in technology)) \n",
    "\n",
    "        and ((\"cnn-lstm\" not in technology) or (\"crnn\" not in technology) or (\"attention\" not in technology)\n",
    "            or (\"encoder\" not in technology) or (\"decoder\" not in technology))\n",
    "       ):\n",
    "        tech_category = 'RNN'\n",
    "        append_technology_usecase(uc, tech_category)\n",
    "        is_other_dl = False\n",
    "\n",
    "    #CNN\n",
    "    if (((\"cnn\" in technology) or (\"convolution\" in technology))\n",
    "\n",
    "       and ((\"cnn-lstm\" not in technology) or (\"crnn\" not in technology) or (\"attention\" not in technology)\n",
    "            or (\"encoder\" not in technology) or (\"decoder\" not in technology))\n",
    "       ):\n",
    "        tech_category = 'CNN'\n",
    "        append_technology_usecase(uc, tech_category)\n",
    "        is_other_dl = False\n",
    "\n",
    "    # FNN\n",
    "    if (((\" nn\" in technology) or (\"fully connected\" in technology) or (\"fully-connected\" in technology) \n",
    "         or (\"fnn\" in technology) or (\"dense\" in technology) or (\"mlp\" in technology))\n",
    "\n",
    "       and \n",
    "        \n",
    "        ((\"cnn-lstm\" not in technology) or (\"crnn\" not in technology) or (\"attention\" not in technology)\n",
    "            or (\"encoder\" not in technology) or (\"decoder\" not in technology))\n",
    "       ):\n",
    "        tech_category = 'FNN'\n",
    "        append_technology_usecase(uc, tech_category) \n",
    "        is_other_dl = False\n",
    "\n",
    "    #GNN\n",
    "    if (((\"gnn\" in technology) or (\"gcn\" in technology) or (\"graph\" in technology))\n",
    "\n",
    "        and ((\"convolutional\" not in technology) or (\"recurrent\" not in technology))\n",
    "       ):\n",
    "        tech_category = 'GNN'\n",
    "        append_technology_usecase(uc, tech_category) \n",
    "        is_other_dl = False\n",
    "\n",
    "    # AE\n",
    "    if (\"autoencoder\" in technology) or (\"encoder\" in technology) or (\"decoder\" in technology):\n",
    "        tech_category = 'AE'\n",
    "        append_technology_usecase(uc, tech_category) \n",
    "        is_other_dl = False\n",
    "\n",
    "    # Attention\n",
    "    if (\"attention\" in technology) or (\"former\" in technology) or (\"bert\" in technology):\n",
    "        tech_category = 'Attention'\n",
    "        append_technology_usecase(uc, tech_category) \n",
    "        is_other_dl = False\n",
    "\n",
    "    # GAN\n",
    "    if ((\"generative\" in technology) or (\"gan\" in technology) or (\"adversarial\" in technology)):            \n",
    "        tech_category = 'GAN'\n",
    "        append_technology_usecase(uc, tech_category) \n",
    "        is_other_dl = False\n",
    "\n",
    "    # DRL\n",
    "    if (\"reinforcement\" in technology) or (\"drl\" in technology) or (\" rl\" in technology):\n",
    "        tech_category = 'DRL'\n",
    "        append_technology_usecase(uc, tech_category) \n",
    "        is_other_dl = False\n",
    "\n",
    "    # Hybrid\n",
    "    if (((\"cnn-lstm\" in technology) or (\"crnn\" in technology) or (\"hybrid\" in technology) or (\"clstm\" in technology))\n",
    "       ):\n",
    "        tech_category = 'CRNN'\n",
    "        append_technology_usecase(uc, tech_category) \n",
    "        is_other_dl = False\n",
    "\n",
    "    # Other\n",
    "    if ((\"other\" in technology) or is_other_dl):        \n",
    "        #print(technology)\n",
    "        tech_category = 'Other DL'\n",
    "        append_technology_usecase(uc, tech_category) \n",
    "        \n",
    "print(len(techniques),len(paper_ids), len(pub_years), len(use_case))\n",
    "\n",
    "use_case_tech_df = pd.DataFrame()\n",
    "use_case_tech_df[\"paper_ids\"] = paper_ids\n",
    "use_case_tech_df[\"pub_years\"] = pub_years\n",
    "use_case_tech_df[\"use_case\"] = use_case\n",
    "use_case_tech_df[\"techniques\"] = techniques"
   ]
  },
  {
   "cell_type": "code",
   "execution_count": null,
   "id": "48e16b29",
   "metadata": {
    "ExecuteTime": {
     "end_time": "2023-09-06T15:31:34.444017Z",
     "start_time": "2023-09-06T15:31:34.433542Z"
    }
   },
   "outputs": [],
   "source": [
    "list(use_case_tech_df.use_case.unique())"
   ]
  },
  {
   "cell_type": "code",
   "execution_count": null,
   "id": "568a8436",
   "metadata": {
    "ExecuteTime": {
     "end_time": "2023-09-06T15:31:34.459477Z",
     "start_time": "2023-09-06T15:31:34.445945Z"
    }
   },
   "outputs": [],
   "source": [
    "## make sure the use cases names are consistent with the paper\n",
    "## estimated time of arrival --> arrival time prediction\n",
    "## next location / final destination prediction --> next location / destination prediction\n",
    "konsistent_ucs = []\n",
    "for uc in use_case_tech_df.use_case:\n",
    "    if uc == \"Estimated Time of Arrival\":\n",
    "        konsistent_ucs.append(\"Arrival time prediction\")\n",
    "        \n",
    "    elif uc == \"Next location / final destination prediction\":\n",
    "        konsistent_ucs.append(\"Next location / destination prediction\")\n",
    "        \n",
    "    else:\n",
    "        konsistent_ucs.append(uc)\n",
    "        \n",
    "use_case_tech_df[\"use_case\"] = konsistent_ucs"
   ]
  },
  {
   "cell_type": "markdown",
   "id": "e65405d6",
   "metadata": {},
   "source": [
    "### Visualize techniques per use-cases over the years"
   ]
  },
  {
   "cell_type": "code",
   "execution_count": null,
   "id": "e788fea3",
   "metadata": {
    "ExecuteTime": {
     "end_time": "2023-09-07T12:47:42.413375Z",
     "start_time": "2023-09-07T12:47:42.402470Z"
    }
   },
   "outputs": [],
   "source": [
    "#create fixed color pallette\n",
    "palette = sns.color_palette(cc.glasbey, n_colors=25)\n",
    "display(palette)"
   ]
  },
  {
   "cell_type": "markdown",
   "id": "d33b77a3",
   "metadata": {
    "ExecuteTime": {
     "end_time": "2023-09-05T09:02:38.126688Z",
     "start_time": "2023-09-05T09:02:38.107193Z"
    }
   },
   "source": [
    "#### Make sure the colors match the paper theme"
   ]
  },
  {
   "cell_type": "code",
   "execution_count": null,
   "id": "9e372c58",
   "metadata": {
    "ExecuteTime": {
     "end_time": "2023-09-06T15:31:34.506070Z",
     "start_time": "2023-09-06T15:31:34.494038Z"
    }
   },
   "outputs": [],
   "source": [
    "task_palette = {'Trajectory prediction/imputation': palette.as_hex()[4],\n",
    "                 '(Sub)trajectory classification': palette.as_hex()[7],\n",
    "                 'Traffic volume prediction': palette.as_hex()[3],\n",
    "                 'Next location / destination prediction': palette.as_hex()[0],\n",
    "                 'Anomaly detection': palette.as_hex()[6],\n",
    "                 'Synthetic data generation': palette.as_hex()[5],\n",
    "                 'Location classification': palette.as_hex()[2],\n",
    "                 'Arrival time prediction': palette.as_hex()[1]}"
   ]
  },
  {
   "cell_type": "code",
   "execution_count": null,
   "id": "82ab6698",
   "metadata": {
    "ExecuteTime": {
     "end_time": "2023-09-07T12:47:46.154786Z",
     "start_time": "2023-09-07T12:47:46.147212Z"
    }
   },
   "outputs": [],
   "source": [
    "tech_palette = {'RNN': palette.as_hex()[8],\n",
    "                'CNN': palette.as_hex()[9],\n",
    "                'GAN': palette.as_hex()[10],\n",
    "                'CRNN': palette.as_hex()[11],\n",
    "                'Attention': palette.as_hex()[12],\n",
    "                'GNN': palette.as_hex()[13],\n",
    "                'AE': palette.as_hex()[14],\n",
    "                'Other DL': palette.as_hex()[15],\n",
    "                'DRL': palette.as_hex()[16],\n",
    "                'FNN': palette.as_hex()[17]}"
   ]
  },
  {
   "cell_type": "code",
   "execution_count": null,
   "id": "3fa020b7",
   "metadata": {
    "ExecuteTime": {
     "end_time": "2023-09-06T15:31:34.551620Z",
     "start_time": "2023-09-06T15:31:34.539508Z"
    }
   },
   "outputs": [],
   "source": [
    "use_case_tech_df = use_case_tech_df[use_case_tech_df.pub_years > 2017]\n",
    "use_case_tech_df = use_case_tech_df.sort_values(by=['pub_years'], ascending=True)"
   ]
  },
  {
   "cell_type": "markdown",
   "id": "0aeedd8d",
   "metadata": {},
   "source": [
    "### plot a trend "
   ]
  },
  {
   "cell_type": "code",
   "execution_count": null,
   "id": "55733645",
   "metadata": {
    "ExecuteTime": {
     "end_time": "2023-09-07T12:47:54.987026Z",
     "start_time": "2023-09-07T12:47:52.723232Z"
    }
   },
   "outputs": [],
   "source": [
    "fig, axs = plt.subplots(1, 2, figsize=(15, 7), layout='constrained')\n",
    "\n",
    "for ax, topic, palette, lgnd_pos_x in zip(axs,\n",
    "                                          [\"techniques\", \"use_case\"],\n",
    "                                          [tech_palette, task_palette],\n",
    "                                          [0.32, 0.95]\n",
    "                                         ):\n",
    "    \n",
    "    count_df = pd.DataFrame(use_case_tech_df.value_counts(subset = [\"pub_years\", topic])).reset_index()\n",
    "    count_df.columns = [\"pub_years\", topic, \"counts\"]\n",
    "\n",
    "    ax.set_title(\"{} over the past 5 years\".format(topic), fontsize=24)\n",
    "    sns.lineplot(data=count_df,\n",
    "                 x=\"pub_years\",\n",
    "                 y=\"counts\",\n",
    "                 hue=topic,\n",
    "                 palette=palette,\n",
    "                 style=topic,\n",
    "                 markers=True,\n",
    "                 linewidth = 2.5,\n",
    "                 markersize=10,\n",
    "                 ax=ax)\n",
    "\n",
    "    ax.tick_params(axis='x', size= 32)\n",
    "    ax.set_ylim(0, 50)\n",
    "    ax.set(xlabel=None)\n",
    "\n",
    "    ax.get_legend().remove()\n",
    "    handles, labels = ax.get_legend_handles_labels()\n",
    "    fig.legend(handles, labels, bbox_to_anchor=(lgnd_pos_x,-0.05), fontsize=20)\n",
    "    \n",
    "plt.savefig(\"trend_suplots.pdf\", bbox_inches='tight')"
   ]
  },
  {
   "cell_type": "code",
   "execution_count": null,
   "id": "7869bd30",
   "metadata": {
    "ExecuteTime": {
     "end_time": "2023-09-07T20:51:35.586344Z",
     "start_time": "2023-09-07T20:51:34.933287Z"
    }
   },
   "outputs": [],
   "source": [
    "tech_count_df = pd.DataFrame(use_case_tech_df.value_counts(subset = [\"pub_years\", \"techniques\"])).reset_index()\n",
    "tech_count_df.columns = [\"pub_years\", \"techniques\", \"counts\"]\n",
    "\n",
    "sns.lineplot(data=tech_count_df,\n",
    "             x=\"pub_years\",\n",
    "             y=\"counts\",\n",
    "             hue=\"techniques\",\n",
    "             palette=tech_palette,\n",
    "             style=\"techniques\",\n",
    "             markers=True,\n",
    "             linewidth = 2.5,\n",
    "             markersize=10)\n",
    "# plt.title(\"NN-design for trajectory data from 2018 to 2023\", fontsize=20)\n",
    "plt.yticks(np.arange(0,50, 5, dtype=None), fontsize=16), plt.ylabel(\" \")\n",
    "plt.ylabel(\"Number of NN designs per publication\", fontsize=20)\n",
    "plt.xticks([2018, 2019, 2020, 2021, 2022, 2023], fontsize=16, rotation = 75), plt.xlabel(\" \")\n",
    "plt.legend(bbox_to_anchor=(1.0, 1.0), fontsize=16)\n",
    "\n",
    "plt.savefig(\"dl_tech_trend.pdf\", bbox_inches='tight')"
   ]
  },
  {
   "cell_type": "code",
   "execution_count": null,
   "id": "051086fe",
   "metadata": {
    "ExecuteTime": {
     "end_time": "2023-09-07T20:51:37.515107Z",
     "start_time": "2023-09-07T20:51:36.894488Z"
    }
   },
   "outputs": [],
   "source": [
    "tech_count_df = pd.DataFrame(use_case_tech_df.value_counts(subset = [\"pub_years\", \"use_case\"])).reset_index()\n",
    "tech_count_df.columns = [\"pub_years\", \"use_case\", \"counts\"]\n",
    "\n",
    "sns.lineplot(data=tech_count_df,\n",
    "             x=\"pub_years\",\n",
    "             y=\"counts\",\n",
    "             hue=\"use_case\",\n",
    "             palette=task_palette,\n",
    "             style=\"use_case\",\n",
    "             markers=True,\n",
    "             linewidth = 2.5,\n",
    "             markersize=10)\n",
    "#plt.title(\"ML/DL use cases of trajectory data from 2018 to 2023\", fontsize=20)\n",
    "plt.yticks(np.arange(0,50, 5, dtype=None), fontsize=16), plt.ylabel(\" \")\n",
    "plt.xticks([2018, 2019, 2020, 2021, 2022, 2023], fontsize=16, rotation = 75), plt.xlabel(\" \")\n",
    "plt.ylabel(\"Number of use cases per publication\", fontsize=20)\n",
    "handles, labels = plt.gca().get_legend_handles_labels()\n",
    "\n",
    "# make sure the legends are alphabetically oredered\n",
    "legend_df = pd.DataFrame()\n",
    "legend_df[\"labels\"] = labels\n",
    "legend_df[\"handles\"] = handles\n",
    "\n",
    "legend_df = legend_df.sort_values(by=['labels'], ascending=True)\n",
    "\n",
    "plt.legend(bbox_to_anchor=(1.0, 1.0), fontsize=14)\n",
    "\n",
    "plt.savefig(\"usecases_trend.pdf\", bbox_inches='tight')"
   ]
  },
  {
   "cell_type": "code",
   "execution_count": null,
   "id": "65f39b24",
   "metadata": {
    "ExecuteTime": {
     "end_time": "2023-09-07T12:56:04.938220Z",
     "start_time": "2023-09-07T12:56:00.146039Z"
    }
   },
   "outputs": [],
   "source": [
    "fig, axs = plt.subplots(3, 2, figsize=(15, 15), layout='constrained')\n",
    "\n",
    "x_ticks_ordered = ['AE', 'Attention', 'CNN', 'DRL', 'FNN', 'GAN', 'GNN', 'CRNN', 'Other DL', 'RNN']\n",
    "\n",
    "for ax, year in zip(axs.flat,use_case_tech_df.pub_years.unique()):\n",
    "    ax.set_title(\"publication year= {}\".format(int(year)), fontsize=20)\n",
    "    \n",
    "    sns.countplot(data=use_case_tech_df[use_case_tech_df.pub_years==year],\n",
    "                  x = \"techniques\", \n",
    "                  hue=\"use_case\",\n",
    "                  ax=ax,\n",
    "                  palette=task_palette,\n",
    "                  order=x_ticks_ordered,\n",
    "                   width=1)\n",
    "    ax.get_legend().remove()\n",
    "    [ax.axvline(x+.5,color='white') for x in ax.get_xticks()]\n",
    "    \n",
    "    ax.tick_params(axis='x', rotation=90, labelsize= 16)\n",
    "    ax.tick_params(axis='y', labelsize= 16)\n",
    "    ax.set_ylim(0, 10)\n",
    "    ax.set(xlabel=None); ax.set(ylabel=None)\n",
    "    \n",
    "    if year==2018:\n",
    "        handles, labels = ax.get_legend_handles_labels()\n",
    "        \n",
    "handles = [handles[i] for i in legend_df.index]\n",
    "labels = [labels[i] for i in legend_df.index]\n",
    "\n",
    "fig.legend([handles[i] for i in legend_df.index], [labels[i] for i in legend_df.index],\n",
    "           loc='lower center', bbox_to_anchor=(0.5,-0.20), fontsize=18)\n",
    "    \n",
    "plt.tight_layout()   \n",
    "\n",
    "# tikzplotlib.save(\"grid_plot.tex\")\n",
    "fig.savefig(\"grid_plot.pdf\", bbox_inches='tight')"
   ]
  },
  {
   "cell_type": "markdown",
   "id": "54791e28",
   "metadata": {},
   "source": [
    "### Visualization of DL techniques over the past years for trajectory data\n",
    "\n",
    "This plot only shows the techniques regardless of the specific use case"
   ]
  },
  {
   "cell_type": "code",
   "execution_count": null,
   "id": "cf7d74be",
   "metadata": {
    "ExecuteTime": {
     "end_time": "2023-09-07T12:49:31.930625Z",
     "start_time": "2023-09-07T12:49:31.111643Z"
    }
   },
   "outputs": [],
   "source": [
    "plt.figure()\n",
    "plt.title(\"DL-Technology for trajectory data over the past 8 years\", fontsize=20)\n",
    "\n",
    "use_case_tech_df[\"pub_years\"] = use_case_tech_df[\"pub_years\"].astype(int)\n",
    "sns.countplot(data=use_case_tech_df, x=\"pub_years\", hue=\"techniques\", palette=tech_palette)\n",
    "\n",
    "plt.yticks(np.arange(0,50, 5, dtype=None), fontsize=16), plt.ylabel(\" \")\n",
    "plt.xticks(fontsize=16, rotation = 75), plt.xlabel(\" \")\n",
    "plt.legend(bbox_to_anchor=(1.0, 1.0), fontsize=16)"
   ]
  },
  {
   "cell_type": "code",
   "execution_count": null,
   "id": "958fbf6d",
   "metadata": {
    "ExecuteTime": {
     "end_time": "2023-09-07T20:59:36.468002Z",
     "start_time": "2023-09-07T20:59:36.447778Z"
    }
   },
   "outputs": [],
   "source": [
    "uc_counts = pd.DataFrame(use_case_tech_df.value_counts(subset = [\"techniques\"])).reset_index()\n",
    "uc_counts.columns = [\"techniques\", \"counts\"]\n",
    "uc_counts"
   ]
  },
  {
   "cell_type": "code",
   "execution_count": null,
   "id": "40c3b636",
   "metadata": {
    "ExecuteTime": {
     "end_time": "2023-09-07T20:36:20.215470Z",
     "start_time": "2023-09-07T20:36:20.182916Z"
    }
   },
   "outputs": [],
   "source": [
    "pub_count_df = pd.DataFrame(papers.value_counts(subset = [\"year\"])).reset_index()\n",
    "pub_count_df.columns = [\"pub_years\", \"counts\"]\n",
    "pub_count_df = pub_count_df.sort_values(\"pub_years\") \n",
    "\n",
    "pub_perYear = []\n",
    "for year in pub_count_df.pub_years:\n",
    "    pub_perYear.append(pub_count_df[pub_count_df.pub_years==year].loc[:, pub_count_df.columns!=\"pub_years\"].sum(axis=1).values[0])\n",
    "    \n",
    "display(pub_perYear)\n",
    "pub_count_df"
   ]
  },
  {
   "cell_type": "markdown",
   "id": "db836800",
   "metadata": {},
   "source": [
    "### Stacked Plot (for paper)"
   ]
  },
  {
   "cell_type": "code",
   "execution_count": null,
   "id": "5dd9914e",
   "metadata": {
    "ExecuteTime": {
     "end_time": "2023-09-07T21:02:00.495977Z",
     "start_time": "2023-09-07T21:02:00.479211Z"
    }
   },
   "outputs": [],
   "source": [
    "tech_count_df = pd.DataFrame(use_case_tech_df.value_counts(subset = [\"pub_years\", \"techniques\"])).reset_index()\n",
    "tech_count_df.columns = [\"pub_years\", \"techniques\", \"counts\"]"
   ]
  },
  {
   "cell_type": "code",
   "execution_count": null,
   "id": "bb17d3b5",
   "metadata": {
    "ExecuteTime": {
     "end_time": "2023-09-07T21:02:01.899347Z",
     "start_time": "2023-09-07T21:02:01.325130Z"
    },
    "scrolled": true
   },
   "outputs": [],
   "source": [
    "df = pd.DataFrame()\n",
    "df[\"pub_years\"] = tech_count_df.pub_years.unique()\n",
    "\n",
    "for technique in tech_count_df.techniques.unique():\n",
    "    tech_df = tech_count_df[tech_count_df.techniques == technique].copy()\n",
    "        \n",
    "    if len(tech_df) != len(df[\"pub_years\"]):\n",
    "        df[technique] = 0  \n",
    "        for year, count in zip(tech_df.pub_years, tech_df.counts):\n",
    "            df.loc[df[df[\"pub_years\"]==year].index, technique] = count\n",
    "    else:\n",
    "        df[technique] = tech_count_df[tech_count_df.techniques == technique].counts.values\n",
    "\n",
    "df = df.sort_values(\"pub_years\") \n",
    "display(df)\n",
    "\n",
    "\n",
    "plt.figure(figsize=(3, 3))\n",
    "df = df.set_index(\"pub_years\")\n",
    "df = df.apply(lambda x: (x-0)/(x.sum()-0), axis=1)\n",
    "display(df)\n",
    "\n",
    "ax = df.plot(kind='bar', stacked=True, color=tech_palette)\n",
    "ax.set_xlabel(\" \")\n",
    "ax.set_ylabel(\" \")\n",
    "\n",
    "plt.xticks(fontsize=12, rotation = 90)\n",
    "plt.yticks(fontsize=12)\n",
    "\n",
    "for i, x_pos in zip(range(len(df.index)),\n",
    "                       [-0.05, 0.99, 1.99, 2.9, 3.96, 4.95]):\n",
    "    ax.text(x_pos, 1, pub_perYear[i], color=\"k\", fontsize=12)\n",
    "\n",
    "handles, labels = plt.gca().get_legend_handles_labels()\n",
    "legend_df = pd.DataFrame()\n",
    "legend_df[\"labels\"] = labels\n",
    "legend_df[\"handles\"] = handles\n",
    "\n",
    "legend_df = legend_df.sort_values(by=['labels'], ascending=True)\n",
    "\n",
    "plt.legend([handles[i] for i in legend_df.index], [labels[i] for i in legend_df.index],\n",
    "          bbox_to_anchor=(1.0, 1.0), fontsize=16)\n",
    "plt.savefig(\"stack_plot_Techniques.pdf\", bbox_inches='tight')\n",
    "plt.show()"
   ]
  },
  {
   "cell_type": "code",
   "execution_count": null,
   "id": "f7f1a17c",
   "metadata": {
    "ExecuteTime": {
     "end_time": "2023-09-07T21:02:11.095591Z",
     "start_time": "2023-09-07T21:02:11.086259Z"
    }
   },
   "outputs": [],
   "source": [
    "df.RNN.mean()"
   ]
  },
  {
   "cell_type": "code",
   "execution_count": null,
   "id": "1104de13",
   "metadata": {
    "ExecuteTime": {
     "end_time": "2023-09-07T12:49:41.127514Z",
     "start_time": "2023-09-07T12:49:41.117216Z"
    }
   },
   "outputs": [],
   "source": [
    "uc_count_df = pd.DataFrame(use_case_tech_df.value_counts(subset = [\"pub_years\", \"use_case\"])).reset_index()\n",
    "uc_count_df.columns = [\"pub_years\", \"use_case\", \"counts\"]"
   ]
  },
  {
   "cell_type": "code",
   "execution_count": null,
   "id": "9769b808",
   "metadata": {
    "ExecuteTime": {
     "end_time": "2023-09-07T21:00:53.368827Z",
     "start_time": "2023-09-07T21:00:52.799132Z"
    },
    "scrolled": false
   },
   "outputs": [],
   "source": [
    "df = pd.DataFrame()\n",
    "df[\"pub_years\"] = uc_count_df.pub_years.unique()\n",
    "\n",
    "for uc in uc_count_df.use_case.unique():\n",
    "    uc_df = uc_count_df[uc_count_df.use_case == uc].copy()\n",
    "        \n",
    "    if len(uc_df) != len(df[\"pub_years\"]):\n",
    "        df[uc] = 0  \n",
    "        for year, count in zip(uc_df.pub_years, uc_df.counts):\n",
    "            df.loc[df[df[\"pub_years\"]==year].index, uc] = count\n",
    "    else:\n",
    "        df[uc] = uc_count_df[uc_count_df.use_case == uc].counts.values\n",
    "\n",
    "df = df.sort_values(\"pub_years\") \n",
    "display(df)\n",
    "\n",
    "plt.figure(figsize=(3, 3))\n",
    "df = df.set_index(\"pub_years\")\n",
    "df = df.apply(lambda x: (x-0)/(x.sum()-0), axis=1)\n",
    "display(df)\n",
    "\n",
    "ax = df.plot(kind='bar', stacked=True, color=task_palette)\n",
    "\n",
    "\n",
    "for i, x_pos in zip(range(len(df.index)),\n",
    "                       [-0.05, 0.99, 1.99, 2.9, 3.96, 4.95]):\n",
    "    ax.text(x_pos, 1, pub_perYear[i], color=\"k\", fontsize=12)\n",
    "\n",
    "plt.xlabel(\" \")\n",
    "plt.ylabel(\" \")\n",
    "\n",
    "plt.xticks(fontsize=12, rotation = 90)\n",
    "plt.yticks(fontsize=12)\n",
    "\n",
    "handles, labels = plt.gca().get_legend_handles_labels()\n",
    "legend_df = pd.DataFrame()\n",
    "legend_df[\"labels\"] = labels\n",
    "legend_df[\"handles\"] = handles\n",
    "\n",
    "legend_df = legend_df.sort_values(by=['labels'], ascending=True)\n",
    "\n",
    "plt.legend([handles[i] for i in legend_df.index], [labels[i] for i in legend_df.index],\n",
    "          bbox_to_anchor=(1.0, 1.0), fontsize=16)\n",
    "\n",
    "plt.savefig(\"stack_plot_UseCases.pdf\", bbox_inches='tight')\n",
    "plt.show()"
   ]
  },
  {
   "cell_type": "markdown",
   "id": "144eccf7",
   "metadata": {},
   "source": [
    "# Semantic Analysis"
   ]
  },
  {
   "cell_type": "code",
   "execution_count": null,
   "id": "6cb7d702",
   "metadata": {
    "ExecuteTime": {
     "end_time": "2023-07-18T15:21:33.472316Z",
     "start_time": "2023-07-18T15:21:33.459359Z"
    }
   },
   "outputs": [],
   "source": [
    "from litstudy.types import Document, Author, DocumentSet, DocumentIdentifier, Affiliation\n",
    "\n",
    "class AITDocument(Document):\n",
    "    def __init__(self, entry):\n",
    "        doi = entry[\"key\"] or None\n",
    "        title = entry[\"title\"]\n",
    "\n",
    "        super().__init__(DocumentIdentifier(title, doi=doi))\n",
    "        self.entry = entry\n",
    "\n",
    "    @property\n",
    "    def title(self) -> str:\n",
    "        return self.entry.get(\"title\")\n",
    "\n",
    "    @property\n",
    "    def authors(self):\n",
    "        authors = self.entry.get(\"Authors\", \"\").split(\"; \")\n",
    "        affs = self.entry.get(\"Author Affiliations\", \"\").split(\"; \")\n",
    "        assert len(authors) == len(affs)\n",
    "        return [IEEEAuthor(a, b) for a, b in zip(authors, affs)]\n",
    "\n",
    "    \n",
    "\n",
    "    @property\n",
    "    def publication_year(self):\n",
    "        try:\n",
    "            return int(self.entry[\"year\"])\n",
    "        except Exception:\n",
    "            return None\n",
    "\n",
    "\n",
    "    @property\n",
    "    def abstract(self):\n",
    "        return self.entry.get(\"abstract\") or None\n",
    "\n"
   ]
  },
  {
   "cell_type": "code",
   "execution_count": null,
   "id": "09db8a7c",
   "metadata": {
    "ExecuteTime": {
     "end_time": "2023-07-18T15:21:34.354284Z",
     "start_time": "2023-07-18T15:21:33.474853Z"
    }
   },
   "outputs": [],
   "source": [
    "import csv\n",
    "from litstudy.common import robust_open\n",
    "\n",
    "pp = './papers.csv'\n",
    "\n",
    "with robust_open(pp) as f:\n",
    "    lines = csv.DictReader(f)\n",
    "    docs = [AITDocument(line) for line in lines]\n",
    "  \n",
    "docs = DocumentSet(docs)\n",
    "\n",
    "corpus = litstudy.build_corpus(docs, ngram_threshold=0.8)"
   ]
  },
  {
   "cell_type": "code",
   "execution_count": null,
   "id": "f5900e4c",
   "metadata": {
    "ExecuteTime": {
     "end_time": "2023-07-18T15:21:34.386299Z",
     "start_time": "2023-07-18T15:21:34.356186Z"
    }
   },
   "outputs": [],
   "source": [
    "litstudy.plot_cocitation_network(docs, max_edges=500)"
   ]
  },
  {
   "cell_type": "code",
   "execution_count": null,
   "id": "cc42b2e2",
   "metadata": {
    "ExecuteTime": {
     "end_time": "2023-07-18T15:21:34.418298Z",
     "start_time": "2023-07-18T15:21:34.388568Z"
    }
   },
   "outputs": [],
   "source": [
    "litstudy.compute_word_distribution(corpus).filter(like='_', axis=0).sort_index()"
   ]
  },
  {
   "cell_type": "code",
   "execution_count": null,
   "id": "33e694a0",
   "metadata": {
    "ExecuteTime": {
     "end_time": "2023-07-18T15:21:35.292083Z",
     "start_time": "2023-07-18T15:21:34.420199Z"
    }
   },
   "outputs": [],
   "source": [
    "plt.figure(figsize=(20, 3))\n",
    "litstudy.plot_word_distribution(corpus, limit=50, title=\"Top words\", vertical=True, label_rotation=45);"
   ]
  },
  {
   "cell_type": "code",
   "execution_count": null,
   "id": "96590c5a",
   "metadata": {
    "ExecuteTime": {
     "end_time": "2023-07-18T15:21:49.270407Z",
     "start_time": "2023-07-18T15:21:35.296104Z"
    }
   },
   "outputs": [],
   "source": [
    "num_topics = 25\n",
    "topic_model = litstudy.train_nmf_model(corpus, num_topics, max_iter=250)"
   ]
  },
  {
   "cell_type": "code",
   "execution_count": null,
   "id": "32ae9689",
   "metadata": {
    "ExecuteTime": {
     "end_time": "2023-07-18T15:21:49.285663Z",
     "start_time": "2023-07-18T15:21:49.271396Z"
    }
   },
   "outputs": [],
   "source": [
    "for i in range(num_topics):\n",
    "    print(f'Topic {i+1}:', topic_model.best_tokens_for_topic(i))"
   ]
  },
  {
   "cell_type": "code",
   "execution_count": null,
   "id": "63138156",
   "metadata": {
    "ExecuteTime": {
     "end_time": "2023-07-18T15:21:58.616204Z",
     "start_time": "2023-07-18T15:21:49.287958Z"
    }
   },
   "outputs": [],
   "source": [
    "plt.figure(figsize=(15, 10))\n",
    "litstudy.plot_topic_clouds(topic_model, ncols=5);\n",
    "plt.savefig(\"25_topics.eps\", bbox_inches='tight')"
   ]
  },
  {
   "cell_type": "code",
   "execution_count": null,
   "id": "efe27d41",
   "metadata": {
    "ExecuteTime": {
     "end_time": "2023-07-18T15:22:05.210169Z",
     "start_time": "2023-07-18T15:21:58.617939Z"
    }
   },
   "outputs": [],
   "source": [
    "plt.figure(figsize=(20, 20))\n",
    "litstudy.plot_embedding(corpus, topic_model);"
   ]
  },
  {
   "cell_type": "code",
   "execution_count": null,
   "id": "7ef66224",
   "metadata": {
    "ExecuteTime": {
     "end_time": "2023-07-18T15:22:05.226088Z",
     "start_time": "2023-07-18T15:22:05.212153Z"
    }
   },
   "outputs": [],
   "source": [
    "topic_id = topic_model.best_topic_for_token('anomaly')\n",
    "for doc_id in topic_model.best_documents_for_topic(topic_id, limit=10):\n",
    "    print(docs[int(doc_id)].title)"
   ]
  },
  {
   "cell_type": "code",
   "execution_count": null,
   "id": "d936da70",
   "metadata": {
    "ExecuteTime": {
     "end_time": "2023-07-18T15:22:05.241469Z",
     "start_time": "2023-07-18T15:22:05.227539Z"
    }
   },
   "outputs": [],
   "source": [
    "docs"
   ]
  },
  {
   "cell_type": "code",
   "execution_count": null,
   "id": "173841f7",
   "metadata": {
    "ExecuteTime": {
     "end_time": "2023-07-18T15:22:05.583923Z",
     "start_time": "2023-07-18T15:22:05.243465Z"
    }
   },
   "outputs": [],
   "source": [
    "threshold = 0.2\n",
    "dl_topic = topic_model.doc2topic[:, topic_id] > threshold\n",
    "\n",
    "docs = docs.add_property('dl_topic', dl_topic)\n",
    "\n",
    "\n",
    "groups = {\n",
    "    'anomaly related': 'dl_topic',\n",
    "    'other': 'not dl_topic',\n",
    "}\n",
    "\n",
    "litstudy.plot_year_histogram(docs, groups=groups, stacked=True);"
   ]
  },
  {
   "cell_type": "code",
   "execution_count": null,
   "id": "e6821bee",
   "metadata": {
    "ExecuteTime": {
     "end_time": "2023-07-18T15:22:05.615559Z",
     "start_time": "2023-07-18T15:22:05.585185Z"
    }
   },
   "outputs": [],
   "source": [
    "table = litstudy.compute_year_histogram(docs, groups=groups)\n",
    "table.div(table.sum(axis=1), axis=0) * 100"
   ]
  },
  {
   "cell_type": "code",
   "execution_count": null,
   "id": "a108747d",
   "metadata": {},
   "outputs": [],
   "source": []
  }
 ],
 "metadata": {
  "celltoolbar": "Raw Cell Format",
  "kernelspec": {
   "display_name": "Python 3 (ipykernel)",
   "language": "python",
   "name": "python3"
  },
  "language_info": {
   "codemirror_mode": {
    "name": "ipython",
    "version": 3
   },
   "file_extension": ".py",
   "mimetype": "text/x-python",
   "name": "python",
   "nbconvert_exporter": "python",
   "pygments_lexer": "ipython3",
   "version": "3.9.15"
  },
  "toc": {
   "base_numbering": 1,
   "nav_menu": {},
   "number_sections": true,
   "sideBar": true,
   "skip_h1_title": false,
   "title_cell": "Table of Contents",
   "title_sidebar": "Contents",
   "toc_cell": false,
   "toc_position": {
    "height": "calc(100% - 180px)",
    "left": "10px",
    "top": "150px",
    "width": "246.188px"
   },
   "toc_section_display": true,
   "toc_window_display": true
  }
 },
 "nbformat": 4,
 "nbformat_minor": 5
}
